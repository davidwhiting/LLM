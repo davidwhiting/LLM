{
 "cells": [
  {
   "cell_type": "markdown",
   "id": "ba14166d-3e50-48d0-929b-7f6da9707efd",
   "metadata": {},
   "source": [
    "# Embeddings used in Ollama\n",
    "\n",
    "```\n",
    "nomic-embed-text\n",
    "all-minilm\n",
    "```"
   ]
  },
  {
   "cell_type": "code",
   "execution_count": 1,
   "id": "21db291d-a279-46fb-accc-0b69735a8bfc",
   "metadata": {},
   "outputs": [],
   "source": [
    "import ollama\n",
    "import chromadb\n",
    "\n",
    "embed_model = \"nomic-embed-text\""
   ]
  },
  {
   "cell_type": "markdown",
   "id": "292681ad-60bf-4296-a9be-0d13c6eb37ed",
   "metadata": {},
   "source": [
    "## Step 1: Generate embeddings"
   ]
  },
  {
   "cell_type": "code",
   "execution_count": 2,
   "id": "9abdace9-76dd-4d23-b812-5311dddc2547",
   "metadata": {},
   "outputs": [],
   "source": [
    "documents = [\n",
    "  \"Llamas are members of the camelid family meaning they're pretty closely related to vicuñas and camels\",\n",
    "  \"Llamas were first domesticated and used as pack animals 4,000 to 5,000 years ago in the Peruvian highlands\",\n",
    "  \"Llamas can grow as much as 6 feet tall though the average llama between 5 feet 6 inches and 5 feet 9 inches tall\",\n",
    "  \"Llamas weigh between 280 and 450 pounds and can carry 25 to 30 percent of their body weight\",\n",
    "  \"Llamas are vegetarians and have very efficient digestive systems\",\n",
    "  \"Llamas live to be about 20 years old, though some only live for 15 years and others live to be 30 years old\",\n",
    "]"
   ]
  },
  {
   "cell_type": "code",
   "execution_count": 3,
   "id": "99e7cf7b-39b8-4eed-9f67-24a497cd4fac",
   "metadata": {},
   "outputs": [],
   "source": [
    "client = chromadb.Client()\n",
    "collection = client.create_collection(name=\"docs\")"
   ]
  },
  {
   "cell_type": "code",
   "execution_count": 5,
   "id": "72c0f6e8-93d2-470a-8b0a-6c1ea2ba6bb8",
   "metadata": {},
   "outputs": [],
   "source": [
    "# store each document in a vector embedding database\n",
    "for i, d in enumerate(documents):\n",
    "  response = ollama.embeddings(model=embed_model, prompt=d)\n",
    "  embedding = response[\"embedding\"]\n",
    "  collection.add(\n",
    "    ids=[str(i)],\n",
    "    embeddings=[embedding],\n",
    "    documents=[d]\n",
    "  )"
   ]
  },
  {
   "cell_type": "markdown",
   "id": "07654270-dd05-43d6-8c14-782fb3527c5b",
   "metadata": {},
   "source": [
    "## Step 2: Retrieve\n",
    "\n",
    "Next, add the code to retrieve the most relevant document given the description:"
   ]
  },
  {
   "cell_type": "code",
   "execution_count": 6,
   "id": "07f0be98-01fd-4dd9-bfad-751ee4376016",
   "metadata": {},
   "outputs": [],
   "source": [
    "# an example prompt\n",
    "prompt = \"What animals are llamas related to?\""
   ]
  },
  {
   "cell_type": "code",
   "execution_count": 7,
   "id": "77272bd3-c9d4-40ee-8f85-efc1b28421cb",
   "metadata": {},
   "outputs": [],
   "source": [
    "# generate an embedding for the prompt and retrieve the most relevant doc\n",
    "response = ollama.embeddings(\n",
    "  prompt=prompt,\n",
    "  model=embed_model\n",
    ")\n",
    "results = collection.query(\n",
    "  query_embeddings=[response[\"embedding\"]],\n",
    "  n_results=1\n",
    ")\n",
    "data = results['documents'][0][0]"
   ]
  },
  {
   "cell_type": "markdown",
   "id": "217da0e6-92f7-4efb-b087-51bdca4bd21d",
   "metadata": {},
   "source": [
    "## Step 3: Generate\n",
    "\n",
    "Use the prompt and the document retrieved in the last step to generate an answer"
   ]
  },
  {
   "cell_type": "code",
   "execution_count": 8,
   "id": "6939aad4-6a3f-4185-952d-b6c2a46591bb",
   "metadata": {},
   "outputs": [],
   "source": [
    "# generate a response combining the prompt and data we retrieved in step 2\n",
    "output = ollama.generate(\n",
    "  model=\"llama3\",\n",
    "  prompt=f\"Using this data: {data}. Respond to this prompt: {prompt}\"\n",
    ")"
   ]
  },
  {
   "cell_type": "code",
   "execution_count": 9,
   "id": "11bfbfe3-5d73-4ce0-b731-b57cf5d7c08f",
   "metadata": {},
   "outputs": [
    {
     "name": "stdout",
     "output_type": "stream",
     "text": [
      "According to the provided information, llamas are related to:\n",
      "\n",
      "1. Vicuñas\n",
      "2. Camels\n"
     ]
    }
   ],
   "source": [
    "print(output['response'])"
   ]
  },
  {
   "cell_type": "code",
   "execution_count": 11,
   "id": "7a0e264c-e8d6-4f14-889d-26c38b5cdab6",
   "metadata": {},
   "outputs": [],
   "source": [
    "# generate a response combining the prompt and data we retrieved in step 2\n",
    "output2 = ollama.generate(\n",
    "  model=\"llama2\",\n",
    "  prompt=f\"Using this data: {data}. Respond to this prompt: {prompt}\"\n",
    ")"
   ]
  },
  {
   "cell_type": "code",
   "execution_count": 12,
   "id": "16bb4972-503a-4576-9c6b-cd0819d67c5c",
   "metadata": {},
   "outputs": [
    {
     "name": "stdout",
     "output_type": "stream",
     "text": [
      "\n",
      "Llamas are related to several other animals within the camelid family, including:\n",
      "\n",
      "1. Vicuñas: Vicuñas are small, wild relatives of llamas and alpacas. They are native to South America and are known for their soft, woolly coats.\n",
      "2. Camels: As you mentioned, llamas are closely related to camels. Both llamas and camels belong to the family Camelidae.\n",
      "3. Guanacos: Guanacos are large, wild animals that are also members of the camelid family. They are native to South America and are known for their distinctive coats.\n",
      "4. Alpacas: Alpacas are domesticated animals that are closely related to llamas and vicuñas. They are native to South America and are known for their soft, luxurious fibers.\n",
      "\n",
      "Overall, llamas are part of a diverse and interesting family of animals within the camelid group!\n"
     ]
    }
   ],
   "source": [
    "print(output2['response'])"
   ]
  },
  {
   "cell_type": "code",
   "execution_count": null,
   "id": "c3d05791-22c2-4f06-bd36-11851f7b7cca",
   "metadata": {},
   "outputs": [],
   "source": [
    "ollama.embeddings(\n",
    "  model='mxbai-embed-large',\n",
    "  prompt='Llamas are members of the camelid family',\n",
    ")"
   ]
  }
 ],
 "metadata": {
  "kernelspec": {
   "display_name": "Python 3 (ipykernel)",
   "language": "python",
   "name": "python3"
  },
  "language_info": {
   "codemirror_mode": {
    "name": "ipython",
    "version": 3
   },
   "file_extension": ".py",
   "mimetype": "text/x-python",
   "name": "python",
   "nbconvert_exporter": "python",
   "pygments_lexer": "ipython3",
   "version": "3.10.12"
  }
 },
 "nbformat": 4,
 "nbformat_minor": 5
}
